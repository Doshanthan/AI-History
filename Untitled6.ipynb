{
  "nbformat": 4,
  "nbformat_minor": 0,
  "metadata": {
    "colab": {
      "provenance": [],
      "authorship_tag": "ABX9TyNzrzR+GQafBELTXkuQXG9A",
      "include_colab_link": true
    },
    "kernelspec": {
      "name": "python3",
      "display_name": "Python 3"
    },
    "language_info": {
      "name": "python"
    }
  },
  "cells": [
    {
      "cell_type": "markdown",
      "metadata": {
        "id": "view-in-github",
        "colab_type": "text"
      },
      "source": [
        "<a href=\"https://colab.research.google.com/github/Doshanthan/AI-History/blob/main/Untitled6.ipynb\" target=\"_parent\"><img src=\"https://colab.research.google.com/assets/colab-badge.svg\" alt=\"Open In Colab\"/></a>"
      ]
    },
    {
      "cell_type": "code",
      "execution_count": 1,
      "metadata": {
        "colab": {
          "base_uri": "https://localhost:8080/"
        },
        "id": "uuizoetJdsZ-",
        "outputId": "3457a706-4616-4aab-ff5b-d32ece0dd80d"
      },
      "outputs": [
        {
          "output_type": "stream",
          "name": "stdout",
          "text": [
            "my name is Doshanth\n"
          ]
        }
      ],
      "source": [
        "print(\"my name is Doshanth\");"
      ]
    },
    {
      "cell_type": "code",
      "source": [
        "a=10;\n",
        "b=20;\n",
        "c=30;\n",
        "sum=a+b+c;\n",
        "print(\"Summation is:\",sum);"
      ],
      "metadata": {
        "colab": {
          "base_uri": "https://localhost:8080/"
        },
        "id": "vfZjFfxzdzYQ",
        "outputId": "778e8f43-77df-4dc6-a104-42290db78ece"
      },
      "execution_count": 2,
      "outputs": [
        {
          "output_type": "stream",
          "name": "stdout",
          "text": [
            "Summation is: 60\n"
          ]
        }
      ]
    },
    {
      "cell_type": "code",
      "source": [
        "name=\"Doshanth\";\n",
        "age=21;\n",
        "print(\"Hi , I am \",name ,\"My age is\",age,\".\");"
      ],
      "metadata": {
        "colab": {
          "base_uri": "https://localhost:8080/"
        },
        "id": "S24RoA8iexsN",
        "outputId": "602e6bc7-781e-4745-aee7-1ba5d81d1833"
      },
      "execution_count": 4,
      "outputs": [
        {
          "output_type": "stream",
          "name": "stdout",
          "text": [
            "Hi , I am  Doshanth My age is 21 .\n"
          ]
        }
      ]
    },
    {
      "cell_type": "code",
      "source": [
        "num=int(input(\"enter the one number\"))\n",
        "if num % 2 == 0:\n",
        "  print(\"this number is even ..\");\n",
        "else:\n",
        "  print(\"this number is odd..\")"
      ],
      "metadata": {
        "colab": {
          "base_uri": "https://localhost:8080/"
        },
        "id": "fdsbe6nTfVku",
        "outputId": "ee4e6930-58ff-464e-ca40-69f188ef78cb"
      },
      "execution_count": 9,
      "outputs": [
        {
          "output_type": "stream",
          "name": "stdout",
          "text": [
            "enter the one number10\n",
            "this number is even ..\n"
          ]
        }
      ]
    },
    {
      "cell_type": "code",
      "source": [
        "age=int(input(\"enter the age:\"))\n",
        "\n",
        "if age<12:\n",
        "  print(\"you are child...\");\n",
        "elif 18>age>=12 :\n",
        "  print(\"you are Teenager...\");\n",
        "elif 60>age>=18:\n",
        "  print(\"your are Adult...\");\n",
        "else:\n",
        "  print(\"your are senior...\");"
      ],
      "metadata": {
        "colab": {
          "base_uri": "https://localhost:8080/"
        },
        "id": "FAlGL8C_g-H-",
        "outputId": "01c05479-25ab-47d7-c7da-36dcd91b9f0a"
      },
      "execution_count": 11,
      "outputs": [
        {
          "output_type": "stream",
          "name": "stdout",
          "text": [
            "enter the age:25\n",
            "your are Adult...\n"
          ]
        }
      ]
    }
  ]
}